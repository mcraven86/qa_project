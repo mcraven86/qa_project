{
 "cells": [
  {
   "cell_type": "code",
   "execution_count": 7,
   "metadata": {},
   "outputs": [
    {
     "name": "stdout",
     "output_type": "stream",
     "text": [
      "Collecting pandas\n",
      "  Downloading pandas-2.3.1-cp312-cp312-win_amd64.whl.metadata (19 kB)\n",
      "Collecting numpy>=1.26.0 (from pandas)\n",
      "  Downloading numpy-2.3.2-cp312-cp312-win_amd64.whl.metadata (60 kB)\n",
      "     ---------------------------------------- 0.0/60.9 kB ? eta -:--:--\n",
      "     ---------------------------------------- 60.9/60.9 kB ? eta 0:00:00\n",
      "Requirement already satisfied: python-dateutil>=2.8.2 in c:\\program files\\python312\\lib\\site-packages (from pandas) (2.9.0.post0)\n",
      "Collecting pytz>=2020.1 (from pandas)\n",
      "  Downloading pytz-2025.2-py2.py3-none-any.whl.metadata (22 kB)\n",
      "Collecting tzdata>=2022.7 (from pandas)\n",
      "  Downloading tzdata-2025.2-py2.py3-none-any.whl.metadata (1.4 kB)\n",
      "Requirement already satisfied: six>=1.5 in c:\\program files\\python312\\lib\\site-packages (from python-dateutil>=2.8.2->pandas) (1.16.0)\n",
      "Downloading pandas-2.3.1-cp312-cp312-win_amd64.whl (11.0 MB)\n",
      "   ---------------------------------------- 0.0/11.0 MB ? eta -:--:--\n",
      "   ---- ----------------------------------- 1.2/11.0 MB 26.7 MB/s eta 0:00:01\n",
      "   --------------- ------------------------ 4.4/11.0 MB 55.8 MB/s eta 0:00:01\n",
      "   --------------------------- ------------ 7.4/11.0 MB 53.0 MB/s eta 0:00:01\n",
      "   ---------------------------------- ----- 9.6/11.0 MB 55.9 MB/s eta 0:00:01\n",
      "   ---------------------------------------- 11.0/11.0 MB 59.4 MB/s eta 0:00:00\n",
      "Downloading numpy-2.3.2-cp312-cp312-win_amd64.whl (12.8 MB)\n",
      "   ---------------------------------------- 0.0/12.8 MB ? eta -:--:--\n",
      "   --------- ------------------------------ 3.0/12.8 MB 63.0 MB/s eta 0:00:01\n",
      "   ----------------- ---------------------- 5.5/12.8 MB 70.8 MB/s eta 0:00:01\n",
      "   --------------------------- ------------ 8.9/12.8 MB 63.1 MB/s eta 0:00:01\n",
      "   ----------------------------------- ---- 11.3/12.8 MB 65.6 MB/s eta 0:00:01\n",
      "   ---------------------------------------- 12.8/12.8 MB 59.5 MB/s eta 0:00:00\n",
      "Downloading pytz-2025.2-py2.py3-none-any.whl (509 kB)\n",
      "   ---------------------------------------- 0.0/509.2 kB ? eta -:--:--\n",
      "   --------------------------------------- 509.2/509.2 kB 31.2 MB/s eta 0:00:00\n",
      "Downloading tzdata-2025.2-py2.py3-none-any.whl (347 kB)\n",
      "   ---------------------------------------- 0.0/347.8 kB ? eta -:--:--\n",
      "   --------------------------------------- 347.8/347.8 kB 22.5 MB/s eta 0:00:00\n",
      "Installing collected packages: pytz, tzdata, numpy, pandas\n",
      "Successfully installed numpy-2.3.2 pandas-2.3.1 pytz-2025.2 tzdata-2025.2\n"
     ]
    },
    {
     "name": "stderr",
     "output_type": "stream",
     "text": [
      "\n",
      "[notice] A new release of pip is available: 24.0 -> 25.1.1\n",
      "[notice] To update, run: python.exe -m pip install --upgrade pip\n"
     ]
    }
   ],
   "source": [
    "\n",
    "!pip install pandas"
   ]
  },
  {
   "cell_type": "code",
   "execution_count": 79,
   "metadata": {},
   "outputs": [
    {
     "name": "stdout",
     "output_type": "stream",
     "text": [
      "    id                                     books book_checkout book_returned  \\\n",
      "0  1.0                       Catcher in the Rye   \"20/02/2023\"    25/02/2023   \n",
      "1  2.0          Lord of the rings the two towers  \"24/03/2023\"    21/03/2023   \n",
      "2  3.0  Lord of the rings the return of the kind  \"29/03/2023\"    25/03/2023   \n",
      "3  4.0                                The hobbit  \"02/04/2023\"    25/03/2023   \n",
      "4  5.0                                     Dune   \"02/04/2023\"    25/03/2023   \n",
      "\n",
      "  days_allowed_to_borrow  customer_id  \n",
      "0                2 weeks          1.0  \n",
      "1                2 weeks          2.0  \n",
      "2                2 weeks          3.0  \n",
      "3                2 weeks          4.0  \n",
      "4                2 weeks          5.0  \n"
     ]
    }
   ],
   "source": [
    "\n",
    "import pandas as pd\n",
    "\n",
    "def load_and_clean_csv(path, primary_key):\n",
    "    \"\"\"\n",
    "    Loads a CSV file, cleans column names, and checks for duplicate primary keys.\n",
    "\n",
    "    Parameters:\n",
    "        path (str): Path to the CSV file.\n",
    "        primary_key (str): Column name to check for duplicates.\n",
    "\n",
    "    Returns:\n",
    "        pd.DataFrame: Cleaned DataFrame.\n",
    "    \"\"\"\n",
    "    # Load the CSV\n",
    "    df = pd.read_csv(path, header=0, skiprows=0)\n",
    "\n",
    "    # Clean column names: strip, lowercase, replace spaces with underscores\n",
    "    df.columns = df.columns.str.strip().str.lower().str.replace(' ', '_')\n",
    "\n",
    "    df = df[df[primary_key].notna()]\n",
    "\n",
    "    # Check for duplicates in the primary key\n",
    "    if df[primary_key].duplicated().any():\n",
    "        print(f\"Warning: Duplicate values found in primary key column '{primary_key}'\")\n",
    "        print(df[df[primary_key].duplicated(keep=False)])\n",
    "\n",
    "    return df\n",
    "\n",
    "\n",
    "books = load_and_clean_csv('../Data/03_Library Systembook.csv', primary_key='id')\n",
    "customers = load_and_clean_csv('../Data/03_Library SystemCustomers.csv', primary_key='customer_id')\n",
    "print(books.head())\n",
    "\n"
   ]
  },
  {
   "cell_type": "code",
   "execution_count": null,
   "metadata": {},
   "outputs": [],
   "source": []
  },
  {
   "cell_type": "code",
   "execution_count": null,
   "metadata": {},
   "outputs": [],
   "source": []
  },
  {
   "cell_type": "code",
   "execution_count": 88,
   "metadata": {},
   "outputs": [
    {
     "name": "stdout",
     "output_type": "stream",
     "text": [
      "   customer_pk   customer_name\n",
      "0            1        Jane Doe\n",
      "1            2      John Smith\n",
      "2            3      Dan Reeves\n",
      "4            5  William Holden\n",
      "5            6   Jaztyn Forest\n",
      "   book_pk                                 book_name book_checkout_date  \\\n",
      "0        1                       Catcher in the Rye          2023-02-20   \n",
      "1        2          Lord of the rings the two towers         2023-03-24   \n",
      "2        3  Lord of the rings the return of the kind         2023-03-29   \n",
      "3        4                                The hobbit         2023-04-02   \n",
      "4        5                                     Dune          2023-04-02   \n",
      "\n",
      "  book_returned_date maximum_days_to_borrow  book_customer_fk  \\\n",
      "0         2023-02-25                2 weeks                 1   \n",
      "1         2023-03-21                2 weeks                 2   \n",
      "2         2023-03-25                2 weeks                 3   \n",
      "3         2023-03-25                2 weeks                 4   \n",
      "4         2023-03-25                2 weeks                 5   \n",
      "\n",
      "   max_borrow_days  borrow_duration  returned_before_checkout  \\\n",
      "0               14              5.0                     False   \n",
      "1               14             -3.0                      True   \n",
      "2               14             -4.0                      True   \n",
      "3               14             -8.0                      True   \n",
      "4               14             -8.0                      True   \n",
      "\n",
      "   returned_overdue  \n",
      "0             False  \n",
      "1             False  \n",
      "2             False  \n",
      "3             False  \n",
      "4             False  \n"
     ]
    }
   ],
   "source": [
    "\n",
    "import pandas as pd\n",
    "\n",
    "#function to load and clean data\n",
    "def load_and_clean_csv(path, primary_key):\n",
    "    \"\"\"\n",
    "    Loads a CSV file, cleans column names, and checks for duplicate primary keys and removed null primary keys.\n",
    "\n",
    "    Parameters:\n",
    "        path (str): Path to the CSV file.\n",
    "        primary_key (str): Column name to check for duplicates.\n",
    "\n",
    "    Returns:\n",
    "        pd.DataFrame: Cleaned DataFrame.\n",
    "    \"\"\"\n",
    "    # Load the CSV\n",
    "    df = pd.read_csv(path, header=0, skiprows=0)\n",
    "\n",
    "    # Clean column names: strip, lowercase, replace spaces with underscores\n",
    "    df.columns = df.columns.str.strip().str.lower().str.replace(' ', '_')\n",
    "\n",
    "    df = df[df[primary_key].notna()]\n",
    "\n",
    "    # Check for duplicates in the primary key\n",
    "    if df[primary_key].duplicated().any():\n",
    "        print(f\"Warning: Duplicate values found in primary key column '{primary_key}'\")\n",
    "        print(df[df[primary_key].duplicated(keep=False)])\n",
    "\n",
    "    return df\n",
    "\n",
    "\n",
    "books = load_and_clean_csv('../Data/03_Library Systembook.csv', primary_key='id')\n",
    "customers = load_and_clean_csv('../Data/03_Library SystemCustomers.csv', primary_key='customer_id')\n",
    "\n",
    "\n",
    "# Convert 'maximum_days_to_borrow' to number of days\n",
    "def parse_borrow_period(period):\n",
    "    if pd.isna(period):\n",
    "        return None\n",
    "    period = str(period).lower().strip()\n",
    "    if 'week' in period:\n",
    "        num = int(period.split()[0])\n",
    "        return num * 7\n",
    "    elif 'day' in period:\n",
    "        num = int(period.split()[0])\n",
    "        return num\n",
    "    return None\n",
    "\n",
    "\n",
    "books_ideal = (\n",
    "    books\n",
    "        .assign(\n",
    "            book_pk=lambda d: d['id'].astype('Int64'),\n",
    "            book_name=lambda d: d['books'],\n",
    "            book_checkout_date=lambda d: pd.to_datetime(\n",
    "                d['book_checkout'].str.replace('\"', '').str.strip(), \n",
    "                format='%d/%m/%Y', \n",
    "                errors='coerce'\n",
    "            ),\n",
    "            book_returned_date=lambda d: pd.to_datetime(d['book_returned'], format='%d/%m/%Y', errors='coerce'),\n",
    "            maximum_days_to_borrow=lambda d: d['days_allowed_to_borrow'], \n",
    "            book_customer_fk=lambda d: d['customer_id'].astype('Int64'),\n",
    "            \n",
    "        )\n",
    "        [['book_pk', 'book_name', 'book_checkout_date','book_returned_date','maximum_days_to_borrow','book_customer_fk']]\n",
    ")\n",
    "\n",
    "\n",
    "# Apply the parsing function\n",
    "books_ideal['max_borrow_days'] = books_ideal['maximum_days_to_borrow'].apply(parse_borrow_period)\n",
    "\n",
    "# Calculate the actual borrowing duration\n",
    "books_ideal['borrow_duration'] = (books_ideal['book_returned_date'] - books_ideal['book_checkout_date']).dt.days\n",
    "\n",
    "# Check if the Return Date is before the Checkout Date\n",
    "books_ideal['returned_before_checkout'] = books_ideal['borrow_duration'] < 0\n",
    "\n",
    "# Check if the book was returned late\n",
    "books_ideal['returned_overdue'] = books_ideal['borrow_duration'] > books_ideal['max_borrow_days']\n",
    "\n",
    "\n",
    "\n",
    "\n",
    "\n",
    "\n",
    "customers_ideal = (\n",
    "    customers\n",
    "        .assign(\n",
    "            customer_pk=lambda d: d['customer_id'].astype('Int64'),\n",
    "                    )\n",
    "        [['customer_pk','customer_name']]\n",
    ")\n",
    "\n",
    "print(customers_ideal.head())\n",
    "\n",
    "books_with_customers = (\n",
    "    books_ideal\n",
    "        .merge(customers_ideal, left_on='book_customer_fk', right_on='customer_pk', how='left')\n",
    "        .drop(columns=['book_customer_fk']) \n",
    ")\n",
    "\n",
    "\n",
    "# Group by Customer_pk and count the number of books borrowed\n",
    "\n",
    "books_per_customer = (\n",
    "    books_with_customers\n",
    "        .groupby(['customer_pk', 'customer_name'])\n",
    "        .agg(\n",
    "            total_books_borrowed=('book_pk', 'count'),\n",
    "            first_checkout_date=('book_checkout_date', 'min'),\n",
    "            last_return_date=('book_returned_date', 'max')\n",
    "        )\n",
    "        .reset_index()\n",
    ")\n",
    "\n",
    "\n",
    "print(books_ideal.head())\n"
   ]
  },
  {
   "cell_type": "code",
   "execution_count": 56,
   "metadata": {},
   "outputs": [
    {
     "name": "stdout",
     "output_type": "stream",
     "text": [
      "Collecting sqlalchemy\n",
      "  Downloading sqlalchemy-2.0.41-cp312-cp312-win_amd64.whl.metadata (9.8 kB)\n",
      "Collecting greenlet>=1 (from sqlalchemy)\n",
      "  Downloading greenlet-3.2.3-cp312-cp312-win_amd64.whl.metadata (4.2 kB)\n",
      "Collecting typing-extensions>=4.6.0 (from sqlalchemy)\n",
      "  Downloading typing_extensions-4.14.1-py3-none-any.whl.metadata (3.0 kB)\n",
      "Downloading sqlalchemy-2.0.41-cp312-cp312-win_amd64.whl (2.1 MB)\n",
      "   ---------------------------------------- 0.0/2.1 MB ? eta -:--:--\n",
      "   ------------------------------------ --- 1.9/2.1 MB 40.3 MB/s eta 0:00:01\n",
      "   ---------------------------------------- 2.1/2.1 MB 33.4 MB/s eta 0:00:00\n",
      "Downloading greenlet-3.2.3-cp312-cp312-win_amd64.whl (297 kB)\n",
      "   ---------------------------------------- 0.0/297.8 kB ? eta -:--:--\n",
      "   --------------------------------------- 297.8/297.8 kB 19.2 MB/s eta 0:00:00\n",
      "Downloading typing_extensions-4.14.1-py3-none-any.whl (43 kB)\n",
      "   ---------------------------------------- 0.0/43.9 kB ? eta -:--:--\n",
      "   ---------------------------------------- 43.9/43.9 kB ? eta 0:00:00\n",
      "Installing collected packages: typing-extensions, greenlet, sqlalchemy\n",
      "Successfully installed greenlet-3.2.3 sqlalchemy-2.0.41 typing-extensions-4.14.1\n"
     ]
    },
    {
     "name": "stderr",
     "output_type": "stream",
     "text": [
      "\n",
      "[notice] A new release of pip is available: 24.0 -> 25.1.1\n",
      "[notice] To update, run: python.exe -m pip install --upgrade pip\n",
      "ERROR: Could not find a version that satisfies the requirement sqlite3 (from versions: none)\n",
      "ERROR: No matching distribution found for sqlite3\n",
      "\n",
      "[notice] A new release of pip is available: 24.0 -> 25.1.1\n",
      "[notice] To update, run: python.exe -m pip install --upgrade pip\n"
     ]
    }
   ],
   "source": [
    "\n",
    "!pip install sqlalchemy\n",
    "!pip install sqlite3  \n"
   ]
  },
  {
   "cell_type": "code",
   "execution_count": 57,
   "metadata": {},
   "outputs": [
    {
     "data": {
      "text/plain": [
       "8"
      ]
     },
     "execution_count": 57,
     "metadata": {},
     "output_type": "execute_result"
    }
   ],
   "source": [
    "from sqlalchemy import create_engine\n",
    "\n",
    "# Create a SQLite database in the current directory\n",
    "engine = create_engine('sqlite:///library.db')\n",
    "\n",
    "\n",
    "books_with_customers.to_sql('books_with_customers', con=engine, if_exists='replace', index=False)\n",
    "books_per_customer.to_sql('books_per_customer', con=engine, if_exists='replace', index=False)\n"
   ]
  },
  {
   "cell_type": "code",
   "execution_count": 60,
   "metadata": {},
   "outputs": [
    {
     "name": "stdout",
     "output_type": "stream",
     "text": [
      "   customer_pk customer_name  total_books_borrowed  \\\n",
      "0            1      Jane Doe                     3   \n",
      "1            2    John Smith                     5   \n",
      "2            3    Dan Reeves                     3   \n",
      "\n",
      "          first_checkout_date            last_return_date  \n",
      "0  2023-02-20 00:00:00.000000  2023-05-01 00:00:00.000000  \n",
      "1  2023-03-24 00:00:00.000000  2023-06-20 00:00:00.000000  \n",
      "2  2023-03-29 00:00:00.000000  2023-06-04 00:00:00.000000  \n"
     ]
    }
   ],
   "source": [
    "\n",
    "import pandas as pd\n",
    "from sqlalchemy import create_engine\n",
    "\n",
    "# Connect to the SQLite database created earlier\n",
    "engine = create_engine('sqlite:///library.db')\n",
    "\n",
    "# Example: Read the entire books_per_customer table\n",
    "df = pd.read_sql('SELECT * FROM books_per_customer', con=engine)\n",
    "\n",
    "# Example: Filter customers with more than 3 books\n",
    "df_filtered = pd.read_sql('''\n",
    "    SELECT * FROM books_per_customer\n",
    "    WHERE total_books_borrowed > 2\n",
    "''', con=engine)\n",
    "\n",
    "print(df_filtered.head())\n"
   ]
  },
  {
   "cell_type": "code",
   "execution_count": null,
   "metadata": {},
   "outputs": [],
   "source": []
  },
  {
   "cell_type": "code",
   "execution_count": 89,
   "metadata": {},
   "outputs": [],
   "source": [
    "from app_copy import parse_borrow_period\n"
   ]
  },
  {
   "cell_type": "code",
   "execution_count": 90,
   "metadata": {},
   "outputs": [
    {
     "ename": "TypeError",
     "evalue": "parse_borrow_period() missing 1 required positional argument: 'period'",
     "output_type": "error",
     "traceback": [
      "\u001b[1;31m---------------------------------------------------------------------------\u001b[0m",
      "\u001b[1;31mTypeError\u001b[0m                                 Traceback (most recent call last)",
      "Cell \u001b[1;32mIn[90], line 1\u001b[0m\n\u001b[1;32m----> 1\u001b[0m \u001b[43mparse_borrow_period\u001b[49m\u001b[43m(\u001b[49m\u001b[43m)\u001b[49m\n",
      "\u001b[1;31mTypeError\u001b[0m: parse_borrow_period() missing 1 required positional argument: 'period'"
     ]
    }
   ],
   "source": [
    "parse_borrow_period()"
   ]
  }
 ],
 "metadata": {
  "kernelspec": {
   "display_name": "Python 3",
   "language": "python",
   "name": "python3"
  },
  "language_info": {
   "codemirror_mode": {
    "name": "ipython",
    "version": 3
   },
   "file_extension": ".py",
   "mimetype": "text/x-python",
   "name": "python",
   "nbconvert_exporter": "python",
   "pygments_lexer": "ipython3",
   "version": "3.12.3"
  }
 },
 "nbformat": 4,
 "nbformat_minor": 2
}
